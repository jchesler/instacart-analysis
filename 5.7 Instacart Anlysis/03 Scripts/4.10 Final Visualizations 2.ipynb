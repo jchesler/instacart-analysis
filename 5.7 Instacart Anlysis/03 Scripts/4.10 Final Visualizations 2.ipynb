{
 "cells": [
  {
   "cell_type": "code",
   "execution_count": 1,
   "id": "53309fa6",
   "metadata": {},
   "outputs": [],
   "source": [
    "#import libraries\n",
    "import pandas as pd\n",
    "import numpy as np\n",
    "import os\n",
    "import matplotlib.pyplot as plt\n",
    "import seaborn as sns\n",
    "import scipy"
   ]
  },
  {
   "cell_type": "code",
   "execution_count": 2,
   "id": "a6e2a085",
   "metadata": {},
   "outputs": [],
   "source": [
    "#create path\n",
    "path = r'C:\\Users\\jacob\\Documents\\Data Analytics\\Data Immersion\\Achievement 4\\10-2023 Instacart Basket Analysis'"
   ]
  },
  {
   "cell_type": "code",
   "execution_count": 3,
   "id": "2d0f73c6",
   "metadata": {},
   "outputs": [],
   "source": [
    "#import data orders_products_customers_active_merged.pkl\n",
    "df = pd.read_pickle(os.path.join(path, '02 Data', 'Prepared Data', 'orders_products_customers_active_merged.pkl'))"
   ]
  },
  {
   "cell_type": "code",
   "execution_count": 12,
   "id": "e1ff42b2",
   "metadata": {},
   "outputs": [
    {
     "name": "stderr",
     "output_type": "stream",
     "text": [
      "C:\\Users\\jacob\\AppData\\Local\\Temp\\ipykernel_3264\\117323579.py:1: FutureWarning: The default of observed=False is deprecated and will be changed to True in a future version of pandas. Pass observed=False to retain current behavior or observed=True to adopt the future default and silence this warning.\n",
      "  loyal_habits = df.groupby(['loyalty_flag', 'order_id']).agg({'prices' : ['sum']})\n"
     ]
    }
   ],
   "source": [
    "#create a dataframe that groups data by loyalty flag, then order id and then finds the sum of all product prices for that order\n",
    "loyal_habits = df.groupby(['loyalty_flag', 'order_id']).agg({'prices' : ['sum']})"
   ]
  },
  {
   "cell_type": "code",
   "execution_count": 13,
   "id": "859e39a5",
   "metadata": {},
   "outputs": [
    {
     "data": {
      "text/html": [
       "<div>\n",
       "<style scoped>\n",
       "    .dataframe tbody tr th:only-of-type {\n",
       "        vertical-align: middle;\n",
       "    }\n",
       "\n",
       "    .dataframe tbody tr th {\n",
       "        vertical-align: top;\n",
       "    }\n",
       "\n",
       "    .dataframe thead tr th {\n",
       "        text-align: left;\n",
       "    }\n",
       "\n",
       "    .dataframe thead tr:last-of-type th {\n",
       "        text-align: right;\n",
       "    }\n",
       "</style>\n",
       "<table border=\"1\" class=\"dataframe\">\n",
       "  <thead>\n",
       "    <tr>\n",
       "      <th></th>\n",
       "      <th></th>\n",
       "      <th>prices</th>\n",
       "    </tr>\n",
       "    <tr>\n",
       "      <th></th>\n",
       "      <th></th>\n",
       "      <th>sum</th>\n",
       "    </tr>\n",
       "    <tr>\n",
       "      <th>loyalty_flag</th>\n",
       "      <th>order_id</th>\n",
       "      <th></th>\n",
       "    </tr>\n",
       "  </thead>\n",
       "  <tbody>\n",
       "    <tr>\n",
       "      <th rowspan=\"5\" valign=\"top\">Loyal Customer</th>\n",
       "      <th>2</th>\n",
       "      <td>0.000000</td>\n",
       "    </tr>\n",
       "    <tr>\n",
       "      <th>3</th>\n",
       "      <td>0.000000</td>\n",
       "    </tr>\n",
       "    <tr>\n",
       "      <th>4</th>\n",
       "      <td>92.811523</td>\n",
       "    </tr>\n",
       "    <tr>\n",
       "      <th>5</th>\n",
       "      <td>210.683594</td>\n",
       "    </tr>\n",
       "    <tr>\n",
       "      <th>6</th>\n",
       "      <td>0.000000</td>\n",
       "    </tr>\n",
       "    <tr>\n",
       "      <th>...</th>\n",
       "      <th>...</th>\n",
       "      <td>...</td>\n",
       "    </tr>\n",
       "    <tr>\n",
       "      <th rowspan=\"5\" valign=\"top\">Regular Customer</th>\n",
       "      <th>3421079</th>\n",
       "      <td>1.599609</td>\n",
       "    </tr>\n",
       "    <tr>\n",
       "      <th>3421080</th>\n",
       "      <td>0.000000</td>\n",
       "    </tr>\n",
       "    <tr>\n",
       "      <th>3421081</th>\n",
       "      <td>0.000000</td>\n",
       "    </tr>\n",
       "    <tr>\n",
       "      <th>3421082</th>\n",
       "      <td>56.389648</td>\n",
       "    </tr>\n",
       "    <tr>\n",
       "      <th>3421083</th>\n",
       "      <td>69.394531</td>\n",
       "    </tr>\n",
       "  </tbody>\n",
       "</table>\n",
       "<p>9193110 rows × 1 columns</p>\n",
       "</div>"
      ],
      "text/plain": [
       "                               prices\n",
       "                                  sum\n",
       "loyalty_flag     order_id            \n",
       "Loyal Customer   2           0.000000\n",
       "                 3           0.000000\n",
       "                 4          92.811523\n",
       "                 5         210.683594\n",
       "                 6           0.000000\n",
       "...                               ...\n",
       "Regular Customer 3421079     1.599609\n",
       "                 3421080     0.000000\n",
       "                 3421081     0.000000\n",
       "                 3421082    56.389648\n",
       "                 3421083    69.394531\n",
       "\n",
       "[9193110 rows x 1 columns]"
      ]
     },
     "execution_count": 13,
     "metadata": {},
     "output_type": "execute_result"
    }
   ],
   "source": [
    "#check output\n",
    "loyal_habits"
   ]
  },
  {
   "cell_type": "code",
   "execution_count": 24,
   "id": "16022d67",
   "metadata": {},
   "outputs": [
    {
     "name": "stderr",
     "output_type": "stream",
     "text": [
      "C:\\Users\\jacob\\AppData\\Local\\Temp\\ipykernel_3264\\963404958.py:2: FutureWarning: The default of observed=False is deprecated and will be changed to True in a future version of pandas. Pass observed=False to retain current behavior or observed=True to adopt the future default and silence this warning.\n",
      "  loyal_habits_bar = loyal_habits.groupby('loyalty_flag')['prices'].mean().plot.bar(color = 'green', legend = False)\n"
     ]
    },
    {
     "data": {
      "image/png": "[encoded data removed]",
      "text/plain": [
       "<Figure size 640x480 with 1 Axes>"
      ]
     },
     "metadata": {},
     "output_type": "display_data"
    }
   ],
   "source": [
    "#find the mean of order totals and group by loyalty flag and turn into a bar chart\n",
    "loyal_habits_bar = loyal_habits.groupby('loyalty_flag')['prices'].mean().plot.bar(color = 'green', legend = False)\n",
    "plt.xlabel ('Loyalty', fontsize = 10)\n",
    "plt.ylabel ('Average Cost of Order (dollars)', fontsize = 10)\n",
    "plt.title ('Average Cost of Order by Loyalty Flag', fontsize = 14)\n",
    "plt.tight_layout()"
   ]
  },
  {
   "cell_type": "markdown",
   "id": "44f91916",
   "metadata": {},
   "source": [
    "### Create a deptartment name dataframe"
   ]
  },
  {
   "cell_type": "code",
   "execution_count": 59,
   "id": "dfcf2ea7",
   "metadata": {},
   "outputs": [],
   "source": [
    "#dept dictionary\n",
    "departments = {'1': 'frozen',\n",
    "               '2': 'other',\n",
    "               '3': 'bakery',\n",
    "               '4': 'produce',\n",
    "               '5': 'alcohol',\n",
    "               '6':'international',\n",
    "               '7': 'beverages',\n",
    "               '8': 'pets',\n",
    "               '9': 'dry goods pasta',\n",
    "               '10': 'bulk',\n",
    "               '11': 'personal care',\n",
    "               '12': 'meat seafood',\n",
    "               '13': 'pantry',\n",
    "               '14': 'breakfast',\n",
    "               '15': 'canned goods',\n",
    "               '16': 'dairy eggs',\n",
    "               '17': 'household',\n",
    "               '18': 'babies',\n",
    "               '19': 'snacks',\n",
    "               '20': 'deli',\n",
    "               '21': 'missing'}"
   ]
  },
  {
   "cell_type": "code",
   "execution_count": 60,
   "id": "ecc3d39d",
   "metadata": {},
   "outputs": [],
   "source": [
    "df['department_id'] = df['department_id'].astype('str')"
   ]
  },
  {
   "cell_type": "code",
   "execution_count": 61,
   "id": "247ddbd3",
   "metadata": {},
   "outputs": [],
   "source": [
    "#create a new dataframe which only contains order id and department id columns\n",
    "df_depts = df[['order_id','department_id']]"
   ]
  },
  {
   "cell_type": "code",
   "execution_count": 62,
   "id": "c8cfde13",
   "metadata": {},
   "outputs": [
    {
     "name": "stderr",
     "output_type": "stream",
     "text": [
      "C:\\Users\\jacob\\AppData\\Local\\Temp\\ipykernel_3264\\881272921.py:2: SettingWithCopyWarning: \n",
      "A value is trying to be set on a copy of a slice from a DataFrame.\n",
      "Try using .loc[row_indexer,col_indexer] = value instead\n",
      "\n",
      "See the caveats in the documentation: https://pandas.pydata.org/pandas-docs/stable/user_guide/indexing.html#returning-a-view-versus-a-copy\n",
      "  df_depts.replace({'department_id' : departments}, inplace = True)\n"
     ]
    }
   ],
   "source": [
    "#createa replace department_id numeric values with department list values\n",
    "df_depts.replace({'department_id' : departments}, inplace = True)"
   ]
  },
  {
   "cell_type": "code",
   "execution_count": 63,
   "id": "e1bf551b",
   "metadata": {},
   "outputs": [
    {
     "data": {
      "text/plain": [
       "department_id\n",
       "produce            9079273\n",
       "dairy eggs         5176528\n",
       "snacks             2766406\n",
       "beverages          2571901\n",
       "frozen             2121731\n",
       "pantry             1782705\n",
       "bakery             1120828\n",
       "canned goods       1012074\n",
       "deli               1003834\n",
       "dry goods pasta     822136\n",
       "household           699857\n",
       "meat seafood        674781\n",
       "breakfast           670850\n",
       "personal care       424306\n",
       "babies              410392\n",
       "international       255991\n",
       "alcohol             144627\n",
       "pets                 93060\n",
       "missing              64768\n",
       "other                34411\n",
       "bulk                 33451\n",
       "Name: count, dtype: int64"
      ]
     },
     "execution_count": 63,
     "metadata": {},
     "output_type": "execute_result"
    }
   ],
   "source": [
    "#check output\n",
    "df_depts['department_id'].value_counts()"
   ]
  },
  {
   "cell_type": "markdown",
   "id": "4e1299bd",
   "metadata": {},
   "source": [
    "### Differences by Region"
   ]
  },
  {
   "cell_type": "code",
   "execution_count": 54,
   "id": "8e38f878",
   "metadata": {},
   "outputs": [],
   "source": [
    "#create a dataframe that represents top 20 deparatments across all regions by number of products purchased from that deparment\n",
    "top_20_dept_region = df.groupby('region')['department_id'].value_counts().nlargest (20)"
   ]
  },
  {
   "cell_type": "code",
   "execution_count": 55,
   "id": "f96812d2",
   "metadata": {},
   "outputs": [
    {
     "data": {
      "text/plain": [
       "region     department_id\n",
       "South      4                3027476\n",
       "West       4                2324678\n",
       "Midwest    4                2134115\n",
       "South      16               1722789\n",
       "Northeast  4                1593004\n",
       "West       16               1326940\n",
       "Midwest    16               1212284\n",
       "South      19                916780\n",
       "Northeast  16                914515\n",
       "South      7                 859419\n",
       "West       19                711329\n",
       "South      1                 709906\n",
       "West       7                 650574\n",
       "Midwest    19                645143\n",
       "           7                 598979\n",
       "South      13                591754\n",
       "West       1                 543164\n",
       "Midwest    1                 498225\n",
       "Northeast  19                493154\n",
       "           7                 462929\n",
       "Name: count, dtype: int64"
      ]
     },
     "execution_count": 55,
     "metadata": {},
     "output_type": "execute_result"
    }
   ],
   "source": [
    "#check output\n",
    "top_20_dept_region"
   ]
  },
  {
   "cell_type": "code",
   "execution_count": 72,
   "id": "9a42fc15",
   "metadata": {},
   "outputs": [
    {
     "data": {
      "text/plain": [
       "Text(0.5, -0.05, 'Dept ID key: 1 = Frozen, 4 = Produce, 7 = Beverages, 13 = Pantry, 16 = Dairy/Eggs, 19 = Snacks')"
      ]
     },
     "execution_count": 72,
     "metadata": {},
     "output_type": "execute_result"
    },
    {
     "data": {
      "image/png": "[encoded data removed]",
      "text/plain": [
       "<Figure size 640x480 with 1 Axes>"
      ]
     },
     "metadata": {},
     "output_type": "display_data"
    }
   ],
   "source": [
    "#create a bar chart of top 20 depts across all regions\n",
    "top_20_dept_region_bar = top_20_dept_region.plot.bar()\n",
    "plt.xlabel ('Region/Dept ID', fontsize = 12)\n",
    "plt.ylabel ('Number of Products Purchased (in millions)', fontsize = 12)\n",
    "plt.title ('Top 20 Departments Across All Regions', fontsize = 14)\n",
    "plt.tight_layout()\n",
    "plt.figtext (0.5, -0.05,'Dept ID key: 1 = Frozen, 4 = Produce, 7 = Beverages, 13 = Pantry, 16 = Dairy/Eggs, 19 = Snacks', ha='center', va='center', fontsize=10)"
   ]
  },
  {
   "cell_type": "code",
   "execution_count": 32,
   "id": "27adf20c",
   "metadata": {},
   "outputs": [],
   "source": [
    "#create a data frame that represents the top 5 dept by region\n",
    "top_5_dept_region = region_habits.groupby('region').nlargest(5)"
   ]
  },
  {
   "cell_type": "code",
   "execution_count": 46,
   "id": "58f35135",
   "metadata": {},
   "outputs": [
    {
     "data": {
      "text/plain": [
       "region     region     department_id\n",
       "Midwest    Midwest    4                2134115\n",
       "                      16               1212284\n",
       "                      19                645143\n",
       "                      7                 598979\n",
       "                      1                 498225\n",
       "Northeast  Northeast  4                1593004\n",
       "                      16                914515\n",
       "                      19                493154\n",
       "                      7                 462929\n",
       "                      1                 370436\n",
       "South      South      4                3027476\n",
       "                      16               1722789\n",
       "                      19                916780\n",
       "                      7                 859419\n",
       "                      1                 709906\n",
       "West       West       4                2324678\n",
       "                      16               1326940\n",
       "                      19                711329\n",
       "                      7                 650574\n",
       "                      1                 543164\n",
       "Name: count, dtype: int64"
      ]
     },
     "execution_count": 46,
     "metadata": {},
     "output_type": "execute_result"
    }
   ],
   "source": [
    "#create chart of top 5 dept by region\n",
    "top_5_dept_region"
   ]
  },
  {
   "cell_type": "code",
   "execution_count": 36,
   "id": "02d90bb5",
   "metadata": {},
   "outputs": [],
   "source": [
    "#create a dataframe that compares region spending\n",
    "region_spending = df.groupby(['region','order_id']).agg({'prices' : ['sum']})"
   ]
  },
  {
   "cell_type": "code",
   "execution_count": 37,
   "id": "88f3372d",
   "metadata": {},
   "outputs": [
    {
     "data": {
      "text/html": [
       "<div>\n",
       "<style scoped>\n",
       "    .dataframe tbody tr th:only-of-type {\n",
       "        vertical-align: middle;\n",
       "    }\n",
       "\n",
       "    .dataframe tbody tr th {\n",
       "        vertical-align: top;\n",
       "    }\n",
       "\n",
       "    .dataframe thead tr th {\n",
       "        text-align: left;\n",
       "    }\n",
       "\n",
       "    .dataframe thead tr:last-of-type th {\n",
       "        text-align: right;\n",
       "    }\n",
       "</style>\n",
       "<table border=\"1\" class=\"dataframe\">\n",
       "  <thead>\n",
       "    <tr>\n",
       "      <th></th>\n",
       "      <th></th>\n",
       "      <th>prices</th>\n",
       "    </tr>\n",
       "    <tr>\n",
       "      <th></th>\n",
       "      <th></th>\n",
       "      <th>sum</th>\n",
       "    </tr>\n",
       "    <tr>\n",
       "      <th>region</th>\n",
       "      <th>order_id</th>\n",
       "      <th></th>\n",
       "    </tr>\n",
       "  </thead>\n",
       "  <tbody>\n",
       "    <tr>\n",
       "      <th rowspan=\"5\" valign=\"top\">Midwest</th>\n",
       "      <th>6</th>\n",
       "      <td>27.496094</td>\n",
       "    </tr>\n",
       "    <tr>\n",
       "      <th>14</th>\n",
       "      <td>75.093750</td>\n",
       "    </tr>\n",
       "    <tr>\n",
       "      <th>18</th>\n",
       "      <td>193.882812</td>\n",
       "    </tr>\n",
       "    <tr>\n",
       "      <th>28</th>\n",
       "      <td>141.392578</td>\n",
       "    </tr>\n",
       "    <tr>\n",
       "      <th>30</th>\n",
       "      <td>29.599609</td>\n",
       "    </tr>\n",
       "    <tr>\n",
       "      <th>...</th>\n",
       "      <th>...</th>\n",
       "      <td>...</td>\n",
       "    </tr>\n",
       "    <tr>\n",
       "      <th rowspan=\"5\" valign=\"top\">West</th>\n",
       "      <th>3421077</th>\n",
       "      <td>39.296875</td>\n",
       "    </tr>\n",
       "    <tr>\n",
       "      <th>3421078</th>\n",
       "      <td>73.902344</td>\n",
       "    </tr>\n",
       "    <tr>\n",
       "      <th>3421079</th>\n",
       "      <td>1.599609</td>\n",
       "    </tr>\n",
       "    <tr>\n",
       "      <th>3421082</th>\n",
       "      <td>56.389648</td>\n",
       "    </tr>\n",
       "    <tr>\n",
       "      <th>3421083</th>\n",
       "      <td>69.394531</td>\n",
       "    </tr>\n",
       "  </tbody>\n",
       "</table>\n",
       "<p>3064370 rows × 1 columns</p>\n",
       "</div>"
      ],
      "text/plain": [
       "                      prices\n",
       "                         sum\n",
       "region  order_id            \n",
       "Midwest 6          27.496094\n",
       "        14         75.093750\n",
       "        18        193.882812\n",
       "        28        141.392578\n",
       "        30         29.599609\n",
       "...                      ...\n",
       "West    3421077    39.296875\n",
       "        3421078    73.902344\n",
       "        3421079     1.599609\n",
       "        3421082    56.389648\n",
       "        3421083    69.394531\n",
       "\n",
       "[3064370 rows x 1 columns]"
      ]
     },
     "execution_count": 37,
     "metadata": {},
     "output_type": "execute_result"
    }
   ],
   "source": [
    "#check output\n",
    "region_spending"
   ]
  },
  {
   "cell_type": "code",
   "execution_count": 45,
   "id": "dbc9ea5d",
   "metadata": {},
   "outputs": [
    {
     "data": {
      "image/png": "[encoded data removed]",
      "text/plain": [
       "<Figure size 640x480 with 1 Axes>"
      ]
     },
     "metadata": {},
     "output_type": "display_data"
    }
   ],
   "source": [
    "#create a bar showing avg cost per order by region\n",
    "region_spending_bar = region_spending.groupby('region')['prices'].mean().plot.bar(legend = False)\n",
    "plt.xlabel ('Region', fontsize = 10)\n",
    "plt.ylabel ('Average Cost of Order (dollars)', fontsize = 10)\n",
    "plt.title ('Average Cost of Order by Region', fontsize = 14)\n",
    "plt.tight_layout()"
   ]
  },
  {
   "cell_type": "code",
   "execution_count": 47,
   "id": "cbbd5513",
   "metadata": {},
   "outputs": [],
   "source": [
    "#create a dataframe the represents the number of customers by region\n",
    "region_cust = df.groupby('region')['user_id'].nunique()"
   ]
  },
  {
   "cell_type": "code",
   "execution_count": 74,
   "id": "caff244a",
   "metadata": {},
   "outputs": [
    {
     "data": {
      "image/png": "[encoded data removed]",
      "text/plain": [
       "<Figure size 640x480 with 1 Axes>"
      ]
     },
     "metadata": {},
     "output_type": "display_data"
    }
   ],
   "source": [
    "#create a bar chart representing number of customers by region\n",
    "region_cust_bar = region_cust.plot.barh()\n",
    "plt.xlabel ('Number of Customers', fontsize = 10)\n",
    "plt.ylabel ('Region', fontsize = 10)\n",
    "plt.title ('Number of Customers by Region', fontsize = 14)\n",
    "plt.tight_layout()"
   ]
  },
  {
   "cell_type": "markdown",
   "id": "0cc40452",
   "metadata": {},
   "source": [
    "### Spending Habits between age and family status"
   ]
  },
  {
   "cell_type": "code",
   "execution_count": 80,
   "id": "e56d2b9b",
   "metadata": {},
   "outputs": [],
   "source": [
    "#create a new data frame with the following columns\n",
    "df_2 = df[['order_id', 'user_id', 'age','product_id','prices','marital_status']]"
   ]
  },
  {
   "cell_type": "code",
   "execution_count": 81,
   "id": "90a7d15e",
   "metadata": {},
   "outputs": [
    {
     "data": {
      "text/html": [
       "<div>\n",
       "<style scoped>\n",
       "    .dataframe tbody tr th:only-of-type {\n",
       "        vertical-align: middle;\n",
       "    }\n",
       "\n",
       "    .dataframe tbody tr th {\n",
       "        vertical-align: top;\n",
       "    }\n",
       "\n",
       "    .dataframe thead th {\n",
       "        text-align: right;\n",
       "    }\n",
       "</style>\n",
       "<table border=\"1\" class=\"dataframe\">\n",
       "  <thead>\n",
       "    <tr style=\"text-align: right;\">\n",
       "      <th></th>\n",
       "      <th>order_id</th>\n",
       "      <th>user_id</th>\n",
       "      <th>age</th>\n",
       "      <th>product_id</th>\n",
       "      <th>prices</th>\n",
       "      <th>marital_status</th>\n",
       "    </tr>\n",
       "  </thead>\n",
       "  <tbody>\n",
       "    <tr>\n",
       "      <th>0</th>\n",
       "      <td>2539329</td>\n",
       "      <td>1</td>\n",
       "      <td>31</td>\n",
       "      <td>196</td>\n",
       "      <td>9.000000</td>\n",
       "      <td>married</td>\n",
       "    </tr>\n",
       "    <tr>\n",
       "      <th>1</th>\n",
       "      <td>2398795</td>\n",
       "      <td>1</td>\n",
       "      <td>31</td>\n",
       "      <td>196</td>\n",
       "      <td>9.000000</td>\n",
       "      <td>married</td>\n",
       "    </tr>\n",
       "    <tr>\n",
       "      <th>2</th>\n",
       "      <td>473747</td>\n",
       "      <td>1</td>\n",
       "      <td>31</td>\n",
       "      <td>196</td>\n",
       "      <td>9.000000</td>\n",
       "      <td>married</td>\n",
       "    </tr>\n",
       "    <tr>\n",
       "      <th>3</th>\n",
       "      <td>2254736</td>\n",
       "      <td>1</td>\n",
       "      <td>31</td>\n",
       "      <td>196</td>\n",
       "      <td>9.000000</td>\n",
       "      <td>married</td>\n",
       "    </tr>\n",
       "    <tr>\n",
       "      <th>4</th>\n",
       "      <td>431534</td>\n",
       "      <td>1</td>\n",
       "      <td>31</td>\n",
       "      <td>196</td>\n",
       "      <td>9.000000</td>\n",
       "      <td>married</td>\n",
       "    </tr>\n",
       "    <tr>\n",
       "      <th>...</th>\n",
       "      <td>...</td>\n",
       "      <td>...</td>\n",
       "      <td>...</td>\n",
       "      <td>...</td>\n",
       "      <td>...</td>\n",
       "      <td>...</td>\n",
       "    </tr>\n",
       "    <tr>\n",
       "      <th>32404152</th>\n",
       "      <td>3308056</td>\n",
       "      <td>106143</td>\n",
       "      <td>25</td>\n",
       "      <td>19675</td>\n",
       "      <td>10.703125</td>\n",
       "      <td>single</td>\n",
       "    </tr>\n",
       "    <tr>\n",
       "      <th>32404153</th>\n",
       "      <td>2988973</td>\n",
       "      <td>106143</td>\n",
       "      <td>25</td>\n",
       "      <td>19675</td>\n",
       "      <td>10.703125</td>\n",
       "      <td>single</td>\n",
       "    </tr>\n",
       "    <tr>\n",
       "      <th>32404154</th>\n",
       "      <td>930</td>\n",
       "      <td>106143</td>\n",
       "      <td>25</td>\n",
       "      <td>19675</td>\n",
       "      <td>10.703125</td>\n",
       "      <td>single</td>\n",
       "    </tr>\n",
       "    <tr>\n",
       "      <th>32404155</th>\n",
       "      <td>467253</td>\n",
       "      <td>106143</td>\n",
       "      <td>25</td>\n",
       "      <td>19675</td>\n",
       "      <td>10.703125</td>\n",
       "      <td>single</td>\n",
       "    </tr>\n",
       "    <tr>\n",
       "      <th>32404156</th>\n",
       "      <td>156685</td>\n",
       "      <td>106143</td>\n",
       "      <td>25</td>\n",
       "      <td>19675</td>\n",
       "      <td>10.703125</td>\n",
       "      <td>single</td>\n",
       "    </tr>\n",
       "  </tbody>\n",
       "</table>\n",
       "<p>30963910 rows × 6 columns</p>\n",
       "</div>"
      ],
      "text/plain": [
       "          order_id  user_id  age  product_id     prices marital_status\n",
       "0          2539329        1   31         196   9.000000        married\n",
       "1          2398795        1   31         196   9.000000        married\n",
       "2           473747        1   31         196   9.000000        married\n",
       "3          2254736        1   31         196   9.000000        married\n",
       "4           431534        1   31         196   9.000000        married\n",
       "...            ...      ...  ...         ...        ...            ...\n",
       "32404152   3308056   106143   25       19675  10.703125         single\n",
       "32404153   2988973   106143   25       19675  10.703125         single\n",
       "32404154       930   106143   25       19675  10.703125         single\n",
       "32404155    467253   106143   25       19675  10.703125         single\n",
       "32404156    156685   106143   25       19675  10.703125         single\n",
       "\n",
       "[30963910 rows x 6 columns]"
      ]
     },
     "execution_count": 81,
     "metadata": {},
     "output_type": "execute_result"
    }
   ],
   "source": [
    "#check output\n",
    "df_2"
   ]
  },
  {
   "cell_type": "code",
   "execution_count": 94,
   "id": "9800b4bc",
   "metadata": {},
   "outputs": [
    {
     "name": "stderr",
     "output_type": "stream",
     "text": [
      "C:\\Users\\jacob\\AppData\\Local\\Temp\\ipykernel_3264\\1677045379.py:1: SettingWithCopyWarning: \n",
      "A value is trying to be set on a copy of a slice from a DataFrame.\n",
      "Try using .loc[row_indexer,col_indexer] = value instead\n",
      "\n",
      "See the caveats in the documentation: https://pandas.pydata.org/pandas-docs/stable/user_guide/indexing.html#returning-a-view-versus-a-copy\n",
      "  df_2['order_cost'] = df_2.groupby('order_id')['prices'].transform('sum')\n"
     ]
    }
   ],
   "source": [
    "df_2['order_cost'] = df_2.groupby('order_id')['prices'].transform('sum')"
   ]
  },
  {
   "cell_type": "code",
   "execution_count": 95,
   "id": "ab656222",
   "metadata": {},
   "outputs": [
    {
     "data": {
      "text/html": [
       "<div>\n",
       "<style scoped>\n",
       "    .dataframe tbody tr th:only-of-type {\n",
       "        vertical-align: middle;\n",
       "    }\n",
       "\n",
       "    .dataframe tbody tr th {\n",
       "        vertical-align: top;\n",
       "    }\n",
       "\n",
       "    .dataframe thead th {\n",
       "        text-align: right;\n",
       "    }\n",
       "</style>\n",
       "<table border=\"1\" class=\"dataframe\">\n",
       "  <thead>\n",
       "    <tr style=\"text-align: right;\">\n",
       "      <th></th>\n",
       "      <th>order_id</th>\n",
       "      <th>user_id</th>\n",
       "      <th>age</th>\n",
       "      <th>product_id</th>\n",
       "      <th>prices</th>\n",
       "      <th>marital_status</th>\n",
       "      <th>order_cost</th>\n",
       "    </tr>\n",
       "  </thead>\n",
       "  <tbody>\n",
       "    <tr>\n",
       "      <th>0</th>\n",
       "      <td>2539329</td>\n",
       "      <td>1</td>\n",
       "      <td>31</td>\n",
       "      <td>196</td>\n",
       "      <td>9.000000</td>\n",
       "      <td>married</td>\n",
       "      <td>31.597656</td>\n",
       "    </tr>\n",
       "    <tr>\n",
       "      <th>1</th>\n",
       "      <td>2398795</td>\n",
       "      <td>1</td>\n",
       "      <td>31</td>\n",
       "      <td>196</td>\n",
       "      <td>9.000000</td>\n",
       "      <td>married</td>\n",
       "      <td>35.394531</td>\n",
       "    </tr>\n",
       "    <tr>\n",
       "      <th>2</th>\n",
       "      <td>473747</td>\n",
       "      <td>1</td>\n",
       "      <td>31</td>\n",
       "      <td>196</td>\n",
       "      <td>9.000000</td>\n",
       "      <td>married</td>\n",
       "      <td>28.199219</td>\n",
       "    </tr>\n",
       "    <tr>\n",
       "      <th>3</th>\n",
       "      <td>2254736</td>\n",
       "      <td>1</td>\n",
       "      <td>31</td>\n",
       "      <td>196</td>\n",
       "      <td>9.000000</td>\n",
       "      <td>married</td>\n",
       "      <td>26.000000</td>\n",
       "    </tr>\n",
       "    <tr>\n",
       "      <th>4</th>\n",
       "      <td>431534</td>\n",
       "      <td>1</td>\n",
       "      <td>31</td>\n",
       "      <td>196</td>\n",
       "      <td>9.000000</td>\n",
       "      <td>married</td>\n",
       "      <td>56.996094</td>\n",
       "    </tr>\n",
       "    <tr>\n",
       "      <th>...</th>\n",
       "      <td>...</td>\n",
       "      <td>...</td>\n",
       "      <td>...</td>\n",
       "      <td>...</td>\n",
       "      <td>...</td>\n",
       "      <td>...</td>\n",
       "      <td>...</td>\n",
       "    </tr>\n",
       "    <tr>\n",
       "      <th>32404152</th>\n",
       "      <td>3308056</td>\n",
       "      <td>106143</td>\n",
       "      <td>25</td>\n",
       "      <td>19675</td>\n",
       "      <td>10.703125</td>\n",
       "      <td>single</td>\n",
       "      <td>10.703125</td>\n",
       "    </tr>\n",
       "    <tr>\n",
       "      <th>32404153</th>\n",
       "      <td>2988973</td>\n",
       "      <td>106143</td>\n",
       "      <td>25</td>\n",
       "      <td>19675</td>\n",
       "      <td>10.703125</td>\n",
       "      <td>single</td>\n",
       "      <td>10.703125</td>\n",
       "    </tr>\n",
       "    <tr>\n",
       "      <th>32404154</th>\n",
       "      <td>930</td>\n",
       "      <td>106143</td>\n",
       "      <td>25</td>\n",
       "      <td>19675</td>\n",
       "      <td>10.703125</td>\n",
       "      <td>single</td>\n",
       "      <td>10.703125</td>\n",
       "    </tr>\n",
       "    <tr>\n",
       "      <th>32404155</th>\n",
       "      <td>467253</td>\n",
       "      <td>106143</td>\n",
       "      <td>25</td>\n",
       "      <td>19675</td>\n",
       "      <td>10.703125</td>\n",
       "      <td>single</td>\n",
       "      <td>10.703125</td>\n",
       "    </tr>\n",
       "    <tr>\n",
       "      <th>32404156</th>\n",
       "      <td>156685</td>\n",
       "      <td>106143</td>\n",
       "      <td>25</td>\n",
       "      <td>19675</td>\n",
       "      <td>10.703125</td>\n",
       "      <td>single</td>\n",
       "      <td>10.703125</td>\n",
       "    </tr>\n",
       "  </tbody>\n",
       "</table>\n",
       "<p>30963910 rows × 7 columns</p>\n",
       "</div>"
      ],
      "text/plain": [
       "          order_id  user_id  age  product_id     prices marital_status  \\\n",
       "0          2539329        1   31         196   9.000000        married   \n",
       "1          2398795        1   31         196   9.000000        married   \n",
       "2           473747        1   31         196   9.000000        married   \n",
       "3          2254736        1   31         196   9.000000        married   \n",
       "4           431534        1   31         196   9.000000        married   \n",
       "...            ...      ...  ...         ...        ...            ...   \n",
       "32404152   3308056   106143   25       19675  10.703125         single   \n",
       "32404153   2988973   106143   25       19675  10.703125         single   \n",
       "32404154       930   106143   25       19675  10.703125         single   \n",
       "32404155    467253   106143   25       19675  10.703125         single   \n",
       "32404156    156685   106143   25       19675  10.703125         single   \n",
       "\n",
       "          order_cost  \n",
       "0          31.597656  \n",
       "1          35.394531  \n",
       "2          28.199219  \n",
       "3          26.000000  \n",
       "4          56.996094  \n",
       "...              ...  \n",
       "32404152   10.703125  \n",
       "32404153   10.703125  \n",
       "32404154   10.703125  \n",
       "32404155   10.703125  \n",
       "32404156   10.703125  \n",
       "\n",
       "[30963910 rows x 7 columns]"
      ]
     },
     "execution_count": 95,
     "metadata": {},
     "output_type": "execute_result"
    }
   ],
   "source": [
    "df_2"
   ]
  },
  {
   "cell_type": "code",
   "execution_count": 98,
   "id": "05f29c3a",
   "metadata": {},
   "outputs": [
    {
     "data": {
      "text/plain": [
       "user_id\n",
       "1          40.552620\n",
       "2         123.596802\n",
       "3          64.984886\n",
       "4          39.433594\n",
       "7          99.602135\n",
       "             ...    \n",
       "206203    173.170303\n",
       "206206     47.336338\n",
       "206207    121.186790\n",
       "206208    132.896393\n",
       "206209     86.879433\n",
       "Name: order_cost, Length: 162631, dtype: float32"
      ]
     },
     "execution_count": 98,
     "metadata": {},
     "output_type": "execute_result"
    }
   ],
   "source": [
    "df_2.groupby('user_id')['order_cost'].mean()"
   ]
  },
  {
   "cell_type": "code",
   "execution_count": null,
   "id": "edcb9bf0",
   "metadata": {},
   "outputs": [],
   "source": []
  }
 ],
 "metadata": {
  "kernelspec": {
   "display_name": "Python 3 (ipykernel)",
   "language": "python",
   "name": "python3"
  },
  "language_info": {
   "codemirror_mode": {
    "name": "ipython",
    "version": 3
   },
   "file_extension": ".py",
   "mimetype": "text/x-python",
   "name": "python",
   "nbconvert_exporter": "python",
   "pygments_lexer": "ipython3",
   "version": "3.11.5"
  }
 },
 "nbformat": 4,
 "nbformat_minor": 5
}
